{
 "cells": [
  {
   "cell_type": "markdown",
   "id": "24bf65b3",
   "metadata": {},
   "source": [
    "# E Ticaret"
   ]
  },
  {
   "cell_type": "markdown",
   "id": "b6b11dde",
   "metadata": {},
   "source": [
    "<img src=\"https://okcredit-blog-images-prod.storage.googleapis.com/2021/04/ecommerce3-2.jpg\">\n"
   ]
  },
  {
   "cell_type": "markdown",
   "id": "dbe68b17",
   "metadata": {},
   "source": [
    "### Veri Setini İncelediğimizde\n",
    "####  Ürün Adı: Ürünün adı veya kodu.\n",
    "####  Kategori: Ürünün hangi kategoriye ait olduğu (örneğin, Ev & Bahçe, Kozmetik, Giyim, Elektronik, Aksesuar).\n",
    "####  Marka: Ürünün hangi markaya ait olduğu.\n",
    "####  Fiyat: Ürünün fiyatı.\n",
    "####  Stok Miktarı: Üründen kaç adet stokta bulunduğu.\n",
    "####  Satış Sayısı: Ürünün ne kadar satıldığı.\n",
    "####  Yorum Sayısı: Ürün için yapılan yorum sayısı.\n",
    "####  Ortalama Puan: Ürünün aldığı ortalama puan.\n",
    "####  Tarih: Verilerin alındığı tarih ve zaman bilgisi.\n",
    "####  Bu veri seti, her bir ürünün kategori, marka, fiyat, stok durumu, satış istatistikleri, müşteri geri bildirimleri ve zaman bilgilerini içeriyor. Biz bu  Veri seti üzerinde çeşitli analizler ve görselleştirmeler yapacağız."
   ]
  },
  {
   "cell_type": "markdown",
   "id": "f95925c0",
   "metadata": {
    "papermill": {
     "duration": 0.00303,
     "end_time": "2024-06-12T17:52:14.706511",
     "exception": false,
     "start_time": "2024-06-12T17:52:14.703481",
     "status": "completed"
    },
    "tags": []
   },
   "source": [
    "**1. Giriş ve Veri Yükleme**\n",
    "\n",
    "Kütüphanelerin İçe Aktarılması: Pandas ve diğer gerekli kütüphaneleri içe aktarın.\n",
    "\n",
    "Veri Setinin Yüklenmesi: Kaggle'dan yüklenen e-ticaret veri setini yükleyin.\n",
    "\n",
    "# Veri setini yükle\n",
    "df = pd.read_csv('/kaggle/input/e_commerce_data.csv')\n",
    "\n"
   ]
  },
  {
   "cell_type": "markdown",
   "id": "0803d0df",
   "metadata": {},
   "source": [
    "# Kütüphaneleri içe aktarma"
   ]
  },
  {
   "cell_type": "code",
   "execution_count": 1,
   "id": "dd4c1fa3",
   "metadata": {},
   "outputs": [],
   "source": [
    "# E Ticaret veri seti üzerinde yapacağımız analiz ve görselleşirmelere göre ihtiyacımız olan kütüphaneleri yüklüyoruz.\n",
    "\n",
    "import pandas  as pd # veri analizi için kullanıyoruz\n",
    "import numpy as np # nümerik hesaplamalar yapmak için kullanıyoruz\n",
    "import matplotlib.pyplot as plt # verileri görselleştirme kütüphanesi\n",
    "from sklearn.preprocessing import LabelEncoder #  kategorik (metin tabanlı) verileri sayısal değerlere dönüştürmek için kullanıyoruz\n",
    "from sklearn.preprocessing import MinMaxScaler, StandardScaler # verilerinin ölçeklendirilmesinde ve standartlaştırılmasında kullanıyoruz\n",
    "\n",
    "import warnings   # hataları görmezden gelme \n",
    "warnings.filterwarnings('ignore')\n",
    "\n",
    "\n",
    "from sklearn.ensemble import RandomForestClassifier # Rastgele Orman sınıflandırma algoritması\n",
    "from sklearn.tree import DecisionTreeClassifier # Karar Ağacı sınıflandırma algoritması\n",
    "from sklearn.ensemble import GradientBoostingClassifier   # Gradient Boosting sınıflandırma algoritması\n",
    "\n",
    "from sklearn.svm import SVC # Destek Vektör Makineleri (Support Vector Classifier)\n",
    "from sklearn.neighbors import KNeighborsClassifier # K-en Yakın Komşu sınıflandırma algoritması\n",
    "\n",
    "\n",
    "from sklearn.model_selection import train_test_split # Veri setini eğitim ve test setlerine ayırmak için kullanıyoruz\n",
    "from sklearn.linear_model import LogisticRegression # Lojistik Regresyon sınıflandırma algoritması\n",
    "from sklearn.metrics import accuracy_score, classification_report,precision_score, recall_score  # Sınıflandırma performansını değerlendirmek için kullanıyoruz"
   ]
  },
  {
   "cell_type": "markdown",
   "id": "73a9371c",
   "metadata": {},
   "source": [
    "## Veri Setini Yükleme"
   ]
  },
  {
   "cell_type": "code",
   "execution_count": 2,
   "id": "2ec4edc6",
   "metadata": {
    "papermill": {
     "duration": 0.002436,
     "end_time": "2024-06-12T17:52:14.711708",
     "exception": false,
     "start_time": "2024-06-12T17:52:14.709272",
     "status": "completed"
    },
    "tags": []
   },
   "outputs": [],
   "source": [
    "df=pd.read_csv('E_Commerce_Dataset.csv')\n",
    "data=df.copy()"
   ]
  },
  {
   "cell_type": "markdown",
   "id": "26ad8fe4",
   "metadata": {
    "papermill": {
     "duration": 0.002629,
     "end_time": "2024-06-12T17:52:14.717287",
     "exception": false,
     "start_time": "2024-06-12T17:52:14.714658",
     "status": "completed"
    },
    "tags": []
   },
   "source": [
    "**2. Veri Keşfi ve Ön İşleme**\n",
    "\n",
    "Veri Setinin İlk Bakış: Veri setini gözden geçirin ve ilk birkaç satırı inceleyin.\n",
    "\n",
    "Eksik Veri Kontrolü: Eksik verileri kontrol edin ve gerekirse eksik verileri işleyin veya doldurun.\n",
    "\n",
    "Veri Türlerinin Kontrolü: Her bir sütunun veri türlerini kontrol edin ve uygun dönüşümleri yapın.\n",
    "\n",
    "Kategorik Değişkenlerin Kodlanması: Kategorik değişkenleri sayısal değerlere dönüştürün.\n"
   ]
  },
  {
   "cell_type": "code",
   "execution_count": 3,
   "id": "8c8ad11a",
   "metadata": {},
   "outputs": [
    {
     "data": {
      "text/html": [
       "<div>\n",
       "<style scoped>\n",
       "    .dataframe tbody tr th:only-of-type {\n",
       "        vertical-align: middle;\n",
       "    }\n",
       "\n",
       "    .dataframe tbody tr th {\n",
       "        vertical-align: top;\n",
       "    }\n",
       "\n",
       "    .dataframe thead th {\n",
       "        text-align: right;\n",
       "    }\n",
       "</style>\n",
       "<table border=\"1\" class=\"dataframe\">\n",
       "  <thead>\n",
       "    <tr style=\"text-align: right;\">\n",
       "      <th></th>\n",
       "      <th>Ürün Adı</th>\n",
       "      <th>Kategori</th>\n",
       "      <th>Marka</th>\n",
       "      <th>Fiyat</th>\n",
       "      <th>Stok Miktarı</th>\n",
       "      <th>Satış Sayısı</th>\n",
       "      <th>Yorum Sayısı</th>\n",
       "      <th>Ortalama Puan</th>\n",
       "      <th>Tarih</th>\n",
       "    </tr>\n",
       "  </thead>\n",
       "  <tbody>\n",
       "    <tr>\n",
       "      <th>0</th>\n",
       "      <td>Ürün5</td>\n",
       "      <td>Ev &amp; Bahçe</td>\n",
       "      <td>Marka5</td>\n",
       "      <td>55</td>\n",
       "      <td>96</td>\n",
       "      <td>283</td>\n",
       "      <td>1</td>\n",
       "      <td>1.9</td>\n",
       "      <td>2024-02-17 15:18:45.291585</td>\n",
       "    </tr>\n",
       "    <tr>\n",
       "      <th>1</th>\n",
       "      <td>Ürün8</td>\n",
       "      <td>Kozmetik</td>\n",
       "      <td>Marka1</td>\n",
       "      <td>120</td>\n",
       "      <td>37</td>\n",
       "      <td>835</td>\n",
       "      <td>11</td>\n",
       "      <td>4.0</td>\n",
       "      <td>2023-07-21 15:18:45.292898</td>\n",
       "    </tr>\n",
       "    <tr>\n",
       "      <th>2</th>\n",
       "      <td>Ürün8</td>\n",
       "      <td>Aksesuar</td>\n",
       "      <td>Marka5</td>\n",
       "      <td>110</td>\n",
       "      <td>14</td>\n",
       "      <td>457</td>\n",
       "      <td>3</td>\n",
       "      <td>2.9</td>\n",
       "      <td>2024-03-19 15:18:45.293026</td>\n",
       "    </tr>\n",
       "    <tr>\n",
       "      <th>3</th>\n",
       "      <td>Ürün9</td>\n",
       "      <td>Ev &amp; Bahçe</td>\n",
       "      <td>Marka4</td>\n",
       "      <td>133</td>\n",
       "      <td>7</td>\n",
       "      <td>254</td>\n",
       "      <td>8</td>\n",
       "      <td>4.7</td>\n",
       "      <td>2024-03-01 15:18:45.293077</td>\n",
       "    </tr>\n",
       "    <tr>\n",
       "      <th>4</th>\n",
       "      <td>Ürün2</td>\n",
       "      <td>Ev &amp; Bahçe</td>\n",
       "      <td>Marka3</td>\n",
       "      <td>268</td>\n",
       "      <td>80</td>\n",
       "      <td>35</td>\n",
       "      <td>12</td>\n",
       "      <td>3.5</td>\n",
       "      <td>2024-05-21 15:18:45.293117</td>\n",
       "    </tr>\n",
       "  </tbody>\n",
       "</table>\n",
       "</div>"
      ],
      "text/plain": [
       "  Ürün Adı    Kategori   Marka  Fiyat  Stok Miktarı  Satış Sayısı  \\\n",
       "0    Ürün5  Ev & Bahçe  Marka5     55            96           283   \n",
       "1    Ürün8    Kozmetik  Marka1    120            37           835   \n",
       "2    Ürün8    Aksesuar  Marka5    110            14           457   \n",
       "3    Ürün9  Ev & Bahçe  Marka4    133             7           254   \n",
       "4    Ürün2  Ev & Bahçe  Marka3    268            80            35   \n",
       "\n",
       "   Yorum Sayısı  Ortalama Puan                       Tarih  \n",
       "0             1            1.9  2024-02-17 15:18:45.291585  \n",
       "1            11            4.0  2023-07-21 15:18:45.292898  \n",
       "2             3            2.9  2024-03-19 15:18:45.293026  \n",
       "3             8            4.7  2024-03-01 15:18:45.293077  \n",
       "4            12            3.5  2024-05-21 15:18:45.293117  "
      ]
     },
     "execution_count": 3,
     "metadata": {},
     "output_type": "execute_result"
    }
   ],
   "source": [
    "df.head() #head ilk 5 satırı inceler , eğer parametre veriseniz  parametreye göre ilksatırları inceler "
   ]
  },
  {
   "cell_type": "code",
   "execution_count": 4,
   "id": "d5cdeb71",
   "metadata": {},
   "outputs": [
    {
     "name": "stdout",
     "output_type": "stream",
     "text": [
      "<class 'pandas.core.frame.DataFrame'>\n",
      "RangeIndex: 1000 entries, 0 to 999\n",
      "Data columns (total 9 columns):\n",
      " #   Column         Non-Null Count  Dtype  \n",
      "---  ------         --------------  -----  \n",
      " 0   Ürün Adı       1000 non-null   object \n",
      " 1   Kategori       1000 non-null   object \n",
      " 2   Marka          1000 non-null   object \n",
      " 3   Fiyat          1000 non-null   int64  \n",
      " 4   Stok Miktarı   1000 non-null   int64  \n",
      " 5   Satış Sayısı   1000 non-null   int64  \n",
      " 6   Yorum Sayısı   1000 non-null   int64  \n",
      " 7   Ortalama Puan  1000 non-null   float64\n",
      " 8   Tarih          1000 non-null   object \n",
      "dtypes: float64(1), int64(4), object(4)\n",
      "memory usage: 70.4+ KB\n"
     ]
    }
   ],
   "source": [
    "df.info() # datamız hakkında bir bilgilendirme alıyoruz  \n",
    "# column bilgileri \n",
    "# boş değer adedi \n",
    "# ve Dtype ile verinin tipini görüyoruz "
   ]
  },
  {
   "cell_type": "code",
   "execution_count": 5,
   "id": "c232d29d",
   "metadata": {},
   "outputs": [
    {
     "data": {
      "text/html": [
       "<div>\n",
       "<style scoped>\n",
       "    .dataframe tbody tr th:only-of-type {\n",
       "        vertical-align: middle;\n",
       "    }\n",
       "\n",
       "    .dataframe tbody tr th {\n",
       "        vertical-align: top;\n",
       "    }\n",
       "\n",
       "    .dataframe thead th {\n",
       "        text-align: right;\n",
       "    }\n",
       "</style>\n",
       "<table border=\"1\" class=\"dataframe\">\n",
       "  <thead>\n",
       "    <tr style=\"text-align: right;\">\n",
       "      <th></th>\n",
       "      <th>Fiyat</th>\n",
       "      <th>Stok Miktarı</th>\n",
       "      <th>Satış Sayısı</th>\n",
       "      <th>Yorum Sayısı</th>\n",
       "      <th>Ortalama Puan</th>\n",
       "    </tr>\n",
       "  </thead>\n",
       "  <tbody>\n",
       "    <tr>\n",
       "      <th>count</th>\n",
       "      <td>1000.000000</td>\n",
       "      <td>1000.000000</td>\n",
       "      <td>1000.000000</td>\n",
       "      <td>1000.000000</td>\n",
       "      <td>1000.000000</td>\n",
       "    </tr>\n",
       "    <tr>\n",
       "      <th>mean</th>\n",
       "      <td>259.230000</td>\n",
       "      <td>50.301000</td>\n",
       "      <td>506.240000</td>\n",
       "      <td>24.870000</td>\n",
       "      <td>2.998900</td>\n",
       "    </tr>\n",
       "    <tr>\n",
       "      <th>std</th>\n",
       "      <td>138.472625</td>\n",
       "      <td>29.489388</td>\n",
       "      <td>283.187418</td>\n",
       "      <td>14.647513</td>\n",
       "      <td>1.154418</td>\n",
       "    </tr>\n",
       "    <tr>\n",
       "      <th>min</th>\n",
       "      <td>10.000000</td>\n",
       "      <td>0.000000</td>\n",
       "      <td>1.000000</td>\n",
       "      <td>0.000000</td>\n",
       "      <td>1.000000</td>\n",
       "    </tr>\n",
       "    <tr>\n",
       "      <th>25%</th>\n",
       "      <td>140.000000</td>\n",
       "      <td>24.000000</td>\n",
       "      <td>265.750000</td>\n",
       "      <td>13.000000</td>\n",
       "      <td>2.000000</td>\n",
       "    </tr>\n",
       "    <tr>\n",
       "      <th>50%</th>\n",
       "      <td>257.000000</td>\n",
       "      <td>51.000000</td>\n",
       "      <td>522.000000</td>\n",
       "      <td>25.000000</td>\n",
       "      <td>3.000000</td>\n",
       "    </tr>\n",
       "    <tr>\n",
       "      <th>75%</th>\n",
       "      <td>376.000000</td>\n",
       "      <td>76.000000</td>\n",
       "      <td>743.250000</td>\n",
       "      <td>37.000000</td>\n",
       "      <td>4.000000</td>\n",
       "    </tr>\n",
       "    <tr>\n",
       "      <th>max</th>\n",
       "      <td>500.000000</td>\n",
       "      <td>100.000000</td>\n",
       "      <td>1000.000000</td>\n",
       "      <td>50.000000</td>\n",
       "      <td>5.000000</td>\n",
       "    </tr>\n",
       "  </tbody>\n",
       "</table>\n",
       "</div>"
      ],
      "text/plain": [
       "             Fiyat  Stok Miktarı  Satış Sayısı  Yorum Sayısı  Ortalama Puan\n",
       "count  1000.000000   1000.000000   1000.000000   1000.000000    1000.000000\n",
       "mean    259.230000     50.301000    506.240000     24.870000       2.998900\n",
       "std     138.472625     29.489388    283.187418     14.647513       1.154418\n",
       "min      10.000000      0.000000      1.000000      0.000000       1.000000\n",
       "25%     140.000000     24.000000    265.750000     13.000000       2.000000\n",
       "50%     257.000000     51.000000    522.000000     25.000000       3.000000\n",
       "75%     376.000000     76.000000    743.250000     37.000000       4.000000\n",
       "max     500.000000    100.000000   1000.000000     50.000000       5.000000"
      ]
     },
     "execution_count": 5,
     "metadata": {},
     "output_type": "execute_result"
    }
   ],
   "source": [
    "df.describe()"
   ]
  },
  {
   "cell_type": "code",
   "execution_count": 6,
   "id": "b3990207",
   "metadata": {
    "papermill": {
     "duration": 0.002464,
     "end_time": "2024-06-12T17:52:14.722439",
     "exception": false,
     "start_time": "2024-06-12T17:52:14.719975",
     "status": "completed"
    },
    "tags": []
   },
   "outputs": [
    {
     "data": {
      "text/plain": [
       "Index(['Ürün Adı', 'Kategori', 'Marka', 'Fiyat', 'Stok Miktarı',\n",
       "       'Satış Sayısı', 'Yorum Sayısı', 'Ortalama Puan', 'Tarih'],\n",
       "      dtype='object')"
      ]
     },
     "execution_count": 6,
     "metadata": {},
     "output_type": "execute_result"
    }
   ],
   "source": [
    "df.isnull().sum()  #  eksik veri yok \n",
    "df.columns"
   ]
  },
  {
   "cell_type": "code",
   "execution_count": 7,
   "id": "d1774e68",
   "metadata": {},
   "outputs": [],
   "source": [
    "# Kategorical to numeric \n",
    "\n",
    "df.Kategori.unique() # kategorikleri numeri çevirilecek olanlar bunlar olucak \n",
    "df.Marka.unique()    # aynı şekilde bunun için de geçerli \n",
    "df['Ürün Adı'].unique()\n",
    "from sklearn.preprocessing import LabelEncoder \n",
    "le=LabelEncoder()\n",
    "df['Kategori'] = le.fit_transform(df['Kategori'])\n",
    "df['Marka'] = le.fit_transform(df['Marka'])\n",
    "df['Ürün Adı'] = le.fit_transform(df['Ürün Adı'])"
   ]
  },
  {
   "cell_type": "code",
   "execution_count": 8,
   "id": "f4396b77",
   "metadata": {},
   "outputs": [
    {
     "name": "stdout",
     "output_type": "stream",
     "text": [
      "<class 'pandas.core.frame.DataFrame'>\n",
      "RangeIndex: 1000 entries, 0 to 999\n",
      "Data columns (total 9 columns):\n",
      " #   Column         Non-Null Count  Dtype  \n",
      "---  ------         --------------  -----  \n",
      " 0   Ürün Adı       1000 non-null   int32  \n",
      " 1   Kategori       1000 non-null   int32  \n",
      " 2   Marka          1000 non-null   int32  \n",
      " 3   Fiyat          1000 non-null   int64  \n",
      " 4   Stok Miktarı   1000 non-null   int64  \n",
      " 5   Satış Sayısı   1000 non-null   int64  \n",
      " 6   Yorum Sayısı   1000 non-null   int64  \n",
      " 7   Ortalama Puan  1000 non-null   float64\n",
      " 8   Tarih          1000 non-null   object \n",
      "dtypes: float64(1), int32(3), int64(4), object(1)\n",
      "memory usage: 58.7+ KB\n"
     ]
    },
    {
     "data": {
      "text/html": [
       "<div>\n",
       "<style scoped>\n",
       "    .dataframe tbody tr th:only-of-type {\n",
       "        vertical-align: middle;\n",
       "    }\n",
       "\n",
       "    .dataframe tbody tr th {\n",
       "        vertical-align: top;\n",
       "    }\n",
       "\n",
       "    .dataframe thead th {\n",
       "        text-align: right;\n",
       "    }\n",
       "</style>\n",
       "<table border=\"1\" class=\"dataframe\">\n",
       "  <thead>\n",
       "    <tr style=\"text-align: right;\">\n",
       "      <th></th>\n",
       "      <th>Ürün Adı</th>\n",
       "      <th>Kategori</th>\n",
       "      <th>Marka</th>\n",
       "      <th>Fiyat</th>\n",
       "      <th>Stok Miktarı</th>\n",
       "      <th>Satış Sayısı</th>\n",
       "      <th>Yorum Sayısı</th>\n",
       "      <th>Ortalama Puan</th>\n",
       "      <th>Tarih</th>\n",
       "    </tr>\n",
       "  </thead>\n",
       "  <tbody>\n",
       "    <tr>\n",
       "      <th>0</th>\n",
       "      <td>5</td>\n",
       "      <td>2</td>\n",
       "      <td>4</td>\n",
       "      <td>55</td>\n",
       "      <td>96</td>\n",
       "      <td>283</td>\n",
       "      <td>1</td>\n",
       "      <td>1.9</td>\n",
       "      <td>2024-02-17 15:18:45.291585</td>\n",
       "    </tr>\n",
       "    <tr>\n",
       "      <th>1</th>\n",
       "      <td>8</td>\n",
       "      <td>4</td>\n",
       "      <td>0</td>\n",
       "      <td>120</td>\n",
       "      <td>37</td>\n",
       "      <td>835</td>\n",
       "      <td>11</td>\n",
       "      <td>4.0</td>\n",
       "      <td>2023-07-21 15:18:45.292898</td>\n",
       "    </tr>\n",
       "    <tr>\n",
       "      <th>2</th>\n",
       "      <td>8</td>\n",
       "      <td>0</td>\n",
       "      <td>4</td>\n",
       "      <td>110</td>\n",
       "      <td>14</td>\n",
       "      <td>457</td>\n",
       "      <td>3</td>\n",
       "      <td>2.9</td>\n",
       "      <td>2024-03-19 15:18:45.293026</td>\n",
       "    </tr>\n",
       "    <tr>\n",
       "      <th>3</th>\n",
       "      <td>9</td>\n",
       "      <td>2</td>\n",
       "      <td>3</td>\n",
       "      <td>133</td>\n",
       "      <td>7</td>\n",
       "      <td>254</td>\n",
       "      <td>8</td>\n",
       "      <td>4.7</td>\n",
       "      <td>2024-03-01 15:18:45.293077</td>\n",
       "    </tr>\n",
       "    <tr>\n",
       "      <th>4</th>\n",
       "      <td>2</td>\n",
       "      <td>2</td>\n",
       "      <td>2</td>\n",
       "      <td>268</td>\n",
       "      <td>80</td>\n",
       "      <td>35</td>\n",
       "      <td>12</td>\n",
       "      <td>3.5</td>\n",
       "      <td>2024-05-21 15:18:45.293117</td>\n",
       "    </tr>\n",
       "    <tr>\n",
       "      <th>...</th>\n",
       "      <td>...</td>\n",
       "      <td>...</td>\n",
       "      <td>...</td>\n",
       "      <td>...</td>\n",
       "      <td>...</td>\n",
       "      <td>...</td>\n",
       "      <td>...</td>\n",
       "      <td>...</td>\n",
       "      <td>...</td>\n",
       "    </tr>\n",
       "    <tr>\n",
       "      <th>995</th>\n",
       "      <td>0</td>\n",
       "      <td>1</td>\n",
       "      <td>3</td>\n",
       "      <td>351</td>\n",
       "      <td>73</td>\n",
       "      <td>418</td>\n",
       "      <td>13</td>\n",
       "      <td>5.0</td>\n",
       "      <td>2023-06-24 15:18:45.327863</td>\n",
       "    </tr>\n",
       "    <tr>\n",
       "      <th>996</th>\n",
       "      <td>8</td>\n",
       "      <td>2</td>\n",
       "      <td>4</td>\n",
       "      <td>291</td>\n",
       "      <td>63</td>\n",
       "      <td>735</td>\n",
       "      <td>33</td>\n",
       "      <td>4.4</td>\n",
       "      <td>2024-04-05 15:18:45.327894</td>\n",
       "    </tr>\n",
       "    <tr>\n",
       "      <th>997</th>\n",
       "      <td>8</td>\n",
       "      <td>2</td>\n",
       "      <td>4</td>\n",
       "      <td>366</td>\n",
       "      <td>28</td>\n",
       "      <td>867</td>\n",
       "      <td>1</td>\n",
       "      <td>3.6</td>\n",
       "      <td>2024-04-26 15:18:45.327925</td>\n",
       "    </tr>\n",
       "    <tr>\n",
       "      <th>998</th>\n",
       "      <td>4</td>\n",
       "      <td>0</td>\n",
       "      <td>0</td>\n",
       "      <td>24</td>\n",
       "      <td>29</td>\n",
       "      <td>610</td>\n",
       "      <td>24</td>\n",
       "      <td>3.8</td>\n",
       "      <td>2023-09-22 15:18:45.327955</td>\n",
       "    </tr>\n",
       "    <tr>\n",
       "      <th>999</th>\n",
       "      <td>8</td>\n",
       "      <td>3</td>\n",
       "      <td>2</td>\n",
       "      <td>346</td>\n",
       "      <td>88</td>\n",
       "      <td>859</td>\n",
       "      <td>45</td>\n",
       "      <td>3.5</td>\n",
       "      <td>2023-09-22 15:18:45.327985</td>\n",
       "    </tr>\n",
       "  </tbody>\n",
       "</table>\n",
       "<p>1000 rows × 9 columns</p>\n",
       "</div>"
      ],
      "text/plain": [
       "     Ürün Adı  Kategori  Marka  Fiyat  Stok Miktarı  Satış Sayısı  \\\n",
       "0           5         2      4     55            96           283   \n",
       "1           8         4      0    120            37           835   \n",
       "2           8         0      4    110            14           457   \n",
       "3           9         2      3    133             7           254   \n",
       "4           2         2      2    268            80            35   \n",
       "..        ...       ...    ...    ...           ...           ...   \n",
       "995         0         1      3    351            73           418   \n",
       "996         8         2      4    291            63           735   \n",
       "997         8         2      4    366            28           867   \n",
       "998         4         0      0     24            29           610   \n",
       "999         8         3      2    346            88           859   \n",
       "\n",
       "     Yorum Sayısı  Ortalama Puan                       Tarih  \n",
       "0               1            1.9  2024-02-17 15:18:45.291585  \n",
       "1              11            4.0  2023-07-21 15:18:45.292898  \n",
       "2               3            2.9  2024-03-19 15:18:45.293026  \n",
       "3               8            4.7  2024-03-01 15:18:45.293077  \n",
       "4              12            3.5  2024-05-21 15:18:45.293117  \n",
       "..            ...            ...                         ...  \n",
       "995            13            5.0  2023-06-24 15:18:45.327863  \n",
       "996            33            4.4  2024-04-05 15:18:45.327894  \n",
       "997             1            3.6  2024-04-26 15:18:45.327925  \n",
       "998            24            3.8  2023-09-22 15:18:45.327955  \n",
       "999            45            3.5  2023-09-22 15:18:45.327985  \n",
       "\n",
       "[1000 rows x 9 columns]"
      ]
     },
     "execution_count": 8,
     "metadata": {},
     "output_type": "execute_result"
    }
   ],
   "source": [
    "df.info()\n",
    "df"
   ]
  },
  {
   "cell_type": "markdown",
   "id": "ac993fc7",
   "metadata": {
    "papermill": {
     "duration": 0.002623,
     "end_time": "2024-06-12T17:52:14.727886",
     "exception": false,
     "start_time": "2024-06-12T17:52:14.725263",
     "status": "completed"
    },
    "tags": []
   },
   "source": [
    "**3. Veri Görselleştirme**\n",
    "\n",
    "Ürün Kategorilerinin Dağılımı: Ürün kategorilerinin dağılımını görselleştirin.\n",
    "\n",
    "Fiyat Dağılımı: Ürünlerin fiyat dağılımını görselleştirin.\n",
    "\n",
    "Satış Sayısı ve Stok Miktarı: Ürünlerin satış sayıları ve stok miktarlarını görselleştirin.\n"
   ]
  },
  {
   "cell_type": "markdown",
   "id": "55af928c",
   "metadata": {},
   "source": [
    "# Veri Görselleştirme Kısmı"
   ]
  },
  {
   "cell_type": "code",
   "execution_count": 9,
   "id": "b14b33d0",
   "metadata": {},
   "outputs": [
    {
     "data": {
      "image/png": "[encoded data removed]",
      "text/plain": [
       "<Figure size 800x600 with 1 Axes>"
      ]
     },
     "metadata": {},
     "output_type": "display_data"
    }
   ],
   "source": [
    "kategori_counts = df['Kategori'].value_counts()\n",
    "plt.figure(figsize=(8, 6))\n",
    "kategori_counts.plot(kind='bar', color='red')\n",
    "plt.title('Ürün Kategorilerinin Dağılımı')\n",
    "plt.xlabel('Kategori')\n",
    "plt.ylabel('Ürün Sayısı')\n",
    "plt.xticks(rotation=45)\n",
    "plt.tight_layout()\n",
    "plt.show()\n"
   ]
  },
  {
   "cell_type": "code",
   "execution_count": 10,
   "id": "dfee700f",
   "metadata": {},
   "outputs": [
    {
     "data": {
      "image/png": "[encoded data removed]",
      "text/plain": [
       "<Figure size 800x600 with 1 Axes>"
      ]
     },
     "metadata": {},
     "output_type": "display_data"
    }
   ],
   "source": [
    "plt.figure(figsize=(8, 6))\n",
    "plt.hist(df['Fiyat'], bins=10, color='skyblue', edgecolor='black')\n",
    "plt.title('Ürün Fiyatlarının Dağılımı')\n",
    "plt.xlabel('Fiyat')\n",
    "plt.ylabel('Ürün Sayısı')\n",
    "plt.grid(True)\n",
    "plt.tight_layout()\n",
    "plt.show()"
   ]
  },
  {
   "cell_type": "code",
   "execution_count": 11,
   "id": "e77ad48e",
   "metadata": {},
   "outputs": [],
   "source": [
    "import seaborn as sns"
   ]
  },
  {
   "cell_type": "code",
   "execution_count": 12,
   "id": "4e54d187",
   "metadata": {},
   "outputs": [
    {
     "data": {
      "image/png": "[encoded data removed]",
      "text/plain": [
       "<Figure size 1000x600 with 1 Axes>"
      ]
     },
     "metadata": {},
     "output_type": "display_data"
    }
   ],
   "source": [
    "plt.figure(figsize=(10, 6))\n",
    "sns.barplot(x='Ürün Adı', y='Stok Miktarı', data=df, color='skyblue', alpha=0.7, label='Stok Miktarı')\n",
    "sns.barplot(x='Ürün Adı', y='Satış Sayısı', data=df, color='orange', alpha=0.7, label='Satış Sayısı')\n",
    "\n",
    "\n",
    "for i, bar in enumerate(plt.gca().patches):\n",
    "    plt.gca().text(bar.get_x() + bar.get_width()/2, bar.get_height() - 5, df.iloc[i]['Stok Miktarı'], ha='center', color='white', fontsize=10)\n",
    "    plt.gca().text(bar.get_x() + bar.get_width()/2, bar.get_height() + 5, df.iloc[i]['Satış Sayısı'], ha='center', color='black', fontsize=10)\n",
    "\n",
    "plt.title('Ürünlerin Stok Miktarı ve Satış Sayısı')\n",
    "plt.xlabel('Ürün Adı')\n",
    "plt.ylabel('Miktar')\n",
    "plt.xticks(rotation=45)\n",
    "plt.legend()\n",
    "plt.tight_layout()\n",
    "plt.show()"
   ]
  },
  {
   "cell_type": "markdown",
   "id": "68f36512",
   "metadata": {
    "papermill": {
     "duration": 0.002437,
     "end_time": "2024-06-12T17:52:14.738472",
     "exception": false,
     "start_time": "2024-06-12T17:52:14.736035",
     "status": "completed"
    },
    "tags": []
   },
   "source": [
    "**4. Veri Ön İşleme ve Sayısallaştırma**\n",
    "\n",
    "Kategorik Değişkenlerin Kodlanması: Kategorik değişkenleri sayısal değerlere dönüştürün (örneğin, one-hot encoding veya label encoding).\n",
    "\n",
    "Özellik Seçimi: Model için önemli olabilecek özellikleri seçin.\n",
    "\n",
    "Veri Normalizasyonu: Sayısal özellikleri normalize edin.\n"
   ]
  },
  {
   "cell_type": "code",
   "execution_count": 13,
   "id": "8e8582f9",
   "metadata": {
    "papermill": {
     "duration": 0.002962,
     "end_time": "2024-06-12T17:52:14.744097",
     "exception": false,
     "start_time": "2024-06-12T17:52:14.741135",
     "status": "completed"
    },
    "tags": []
   },
   "outputs": [],
   "source": [
    "#yukarda yapıldı "
   ]
  },
  {
   "cell_type": "code",
   "execution_count": 14,
   "id": "81fc233b",
   "metadata": {},
   "outputs": [
    {
     "data": {
      "text/plain": [
       "Index(['Ürün Adı', 'Kategori', 'Marka', 'Fiyat', 'Stok Miktarı',\n",
       "       'Satış Sayısı', 'Yorum Sayısı', 'Ortalama Puan', 'Tarih'],\n",
       "      dtype='object')"
      ]
     },
     "execution_count": 14,
     "metadata": {},
     "output_type": "execute_result"
    }
   ],
   "source": [
    "df.columns"
   ]
  },
  {
   "cell_type": "code",
   "execution_count": 15,
   "id": "391793da",
   "metadata": {},
   "outputs": [
    {
     "name": "stdout",
     "output_type": "stream",
     "text": [
      "Eğitim kümesi boyutu: (800, 4)\n",
      "Test kümesi boyutu: (200, 4)\n"
     ]
    }
   ],
   "source": [
    "# Hedef değişkeni belirleme (Satış Sayısı 50'den fazla mı?)\n",
    "df['Hedef'] = df['Satış Sayısı'].apply(lambda x: 1 if x > 50 else 0)\n",
    "\n",
    "# Özellikler ve hedef değişkeni ayırma\n",
    "X = df[['Fiyat', 'Stok Miktarı', 'Yorum Sayısı', 'Ortalama Puan']]\n",
    "y = df['Hedef']\n",
    "\n",
    "# Eğitim ve test kümelerine ayırma (80% eğitim, 20% test)\n",
    "X_train, X_test, y_train, y_test = train_test_split(X, y, test_size=0.2, random_state=42)\n",
    "\n",
    "print(f\"Eğitim kümesi boyutu: {X_train.shape}\")\n",
    "print(f\"Test kümesi boyutu: {X_test.shape}\")\n"
   ]
  },
  {
   "cell_type": "code",
   "execution_count": 18,
   "id": "69da0e0f",
   "metadata": {},
   "outputs": [
    {
     "ename": "NameError",
     "evalue": "name 'x' is not defined",
     "output_type": "error",
     "traceback": [
      "\u001b[1;31m---------------------------------------------------------------------------\u001b[0m",
      "\u001b[1;31mNameError\u001b[0m                                 Traceback (most recent call last)",
      "Cell \u001b[1;32mIn[18], line 5\u001b[0m\n\u001b[0;32m      3\u001b[0m \u001b[38;5;28;01mfrom\u001b[39;00m \u001b[38;5;21;01msklearn\u001b[39;00m\u001b[38;5;21;01m.\u001b[39;00m\u001b[38;5;21;01mpreprocessing\u001b[39;00m \u001b[38;5;28;01mimport\u001b[39;00m MinMaxScaler \n\u001b[0;32m      4\u001b[0m scaler \u001b[38;5;241m=\u001b[39m MinMaxScaler()\n\u001b[1;32m----> 5\u001b[0m x_scaler \u001b[38;5;241m=\u001b[39m scaler\u001b[38;5;241m.\u001b[39mfit_transform(x)\n\u001b[0;32m      7\u001b[0m \u001b[38;5;66;03m# Normalize edilmiş özellikleri DataFrame olarak saklayabiliriz\u001b[39;00m\n\u001b[0;32m      8\u001b[0m x_normalized \u001b[38;5;241m=\u001b[39m pd\u001b[38;5;241m.\u001b[39mDataFrame(x_scaler, columns\u001b[38;5;241m=\u001b[39mx\u001b[38;5;241m.\u001b[39mcolumns)\n",
      "\u001b[1;31mNameError\u001b[0m: name 'x' is not defined"
     ]
    }
   ],
   "source": [
    " # normalizasyon\n",
    "\n",
    "from sklearn.preprocessing import MinMaxScaler \n",
    "scaler = MinMaxScaler()\n",
    "x_scaler = scaler.fit_transform(x)\n",
    "\n",
    "# Normalize edilmiş özellikleri DataFrame olarak saklayabiliriz\n",
    "x_normalized = pd.DataFrame(x_scaler, columns=x.columns)\n",
    "x_normalized.head()\n"
   ]
  },
  {
   "cell_type": "markdown",
   "id": "8ca5928f",
   "metadata": {
    "papermill": {
     "duration": 0.00346,
     "end_time": "2024-06-12T17:52:14.750890",
     "exception": false,
     "start_time": "2024-06-12T17:52:14.747430",
     "status": "completed"
    },
    "tags": []
   },
   "source": [
    "**5. Model Oluşturma ve Değerlendirme**\n",
    "\n",
    "Veri Setinin Bölünmesi: Veri setini eğitim ve test kümelerine ayırın.\n",
    "\n",
    "Model Seçimi: Uygun bir model seçin (örneğin, Logistic Regression, Decision Trees, Random Forest vb.).\n",
    "\n",
    "Model Eğitimi: Seçilen modeli eğitin.\n",
    "\n",
    "Model Değerlendirmesi: Modelin performansını değerlendirin (örneğin, doğruluk, hassasiyet, geri çağırma gibi metrikler kullanarak)."
   ]
  },
  {
   "cell_type": "code",
   "execution_count": 19,
   "id": "31e4e579",
   "metadata": {},
   "outputs": [
    {
     "name": "stdout",
     "output_type": "stream",
     "text": [
      "Doğruluk: 0.93\n",
      "Hassasiyet: 0.93\n",
      "Geri Çağırma: 1.00\n"
     ]
    }
   ],
   "source": [
    "#x ve y değerlerimiz belli\n",
    "\n",
    "model = LogisticRegression()\n",
    "model.fit(X_train, y_train)\n",
    "\n",
    "\n",
    "# Test verisi ile tahmin yapma\n",
    "y_pred = model.predict(X_test)\n",
    "\n",
    "# Performans değerlendirmesi\n",
    "accuracy = accuracy_score(y_test, y_pred)\n",
    "precision = precision_score(y_test, y_pred)\n",
    "recall = recall_score(y_test, y_pred)\n",
    "\n",
    "print(f\"Doğruluk: {accuracy:.2f}\")\n",
    "print(f\"Hassasiyet: {precision:.2f}\")\n",
    "print(f\"Geri Çağırma: {recall:.2f}\")\n",
    "\n"
   ]
  },
  {
   "cell_type": "code",
   "execution_count": 20,
   "id": "7fd4cb2d",
   "metadata": {
    "scrolled": true
   },
   "outputs": [
    {
     "name": "stdout",
     "output_type": "stream",
     "text": [
      "---- Decision Tree ----\n",
      "Doğruluk (Accuracy): 0.88\n",
      "Hassasiyet (Precision): 0.92\n",
      "Geri Çağırma (Recall): 0.95\n",
      "\n",
      "Rapor (Classification Report):\n",
      "              precision    recall  f1-score   support\n",
      "\n",
      "           0       0.00      0.00      0.00        15\n",
      "           1       0.92      0.95      0.93       185\n",
      "\n",
      "    accuracy                           0.88       200\n",
      "   macro avg       0.46      0.47      0.47       200\n",
      "weighted avg       0.85      0.88      0.86       200\n",
      "\n",
      "\n",
      "---- Gradient Boosting ----\n",
      "Doğruluk (Accuracy): 0.93\n",
      "Hassasiyet (Precision): 0.93\n",
      "Geri Çağırma (Recall): 1.00\n",
      "\n",
      "Rapor (Classification Report):\n",
      "              precision    recall  f1-score   support\n",
      "\n",
      "           0       0.00      0.00      0.00        15\n",
      "           1       0.93      1.00      0.96       185\n",
      "\n",
      "    accuracy                           0.93       200\n",
      "   macro avg       0.46      0.50      0.48       200\n",
      "weighted avg       0.86      0.93      0.89       200\n",
      "\n",
      "\n",
      "---- SVC ----\n",
      "Doğruluk (Accuracy): 0.93\n",
      "Hassasiyet (Precision): 0.93\n",
      "Geri Çağırma (Recall): 1.00\n",
      "\n",
      "Rapor (Classification Report):\n",
      "              precision    recall  f1-score   support\n",
      "\n",
      "           0       0.00      0.00      0.00        15\n",
      "           1       0.93      1.00      0.96       185\n",
      "\n",
      "    accuracy                           0.93       200\n",
      "   macro avg       0.46      0.50      0.48       200\n",
      "weighted avg       0.86      0.93      0.89       200\n",
      "\n",
      "\n",
      "---- KNN ----\n",
      "Doğruluk (Accuracy): 0.93\n",
      "Hassasiyet (Precision): 0.93\n",
      "Geri Çağırma (Recall): 1.00\n",
      "\n",
      "Rapor (Classification Report):\n",
      "              precision    recall  f1-score   support\n",
      "\n",
      "           0       0.00      0.00      0.00        15\n",
      "           1       0.93      1.00      0.96       185\n",
      "\n",
      "    accuracy                           0.93       200\n",
      "   macro avg       0.46      0.50      0.48       200\n",
      "weighted avg       0.86      0.93      0.89       200\n",
      "\n",
      "\n"
     ]
    }
   ],
   "source": [
    "classifiers = {\n",
    "    'Decision Tree': DecisionTreeClassifier(random_state=42),\n",
    "    'Gradient Boosting': GradientBoostingClassifier(random_state=42),\n",
    "    'SVC': SVC(random_state=42),\n",
    "    'KNN': KNeighborsClassifier()\n",
    "}\n",
    "for clf_name, clf in classifiers.items():\n",
    "    clf.fit(X_train, y_train)  # Modeli eğit\n",
    "    y_pred = clf.predict(X_test)  # Test seti üzerinde tahmin yap\n",
    "    \n",
    "    # Performans metriklerini hesapla\n",
    "    accuracy = accuracy_score(y_test, y_pred)\n",
    "    precision = precision_score(y_test, y_pred)\n",
    "    recall = recall_score(y_test, y_pred)\n",
    "    clas_rapor = classification_report(y_test, y_pred)  # Sınıflandırma raporunu oluştur\n",
    "    \n",
    "    # Sonuçlar\n",
    "    print(f\"---- {clf_name} ----\")\n",
    "    print(f\"Doğruluk (Accuracy): {accuracy:.2f}\")\n",
    "    print(f\"Hassasiyet (Precision): {precision:.2f}\")\n",
    "    print(f\"Geri Çağırma (Recall): {recall:.2f}\")\n",
    "    \n",
    "    print(\"\\nRapor (Classification Report):\")\n",
    "    print(clas_rapor)\n",
    "    print()\n"
   ]
  },
  {
   "cell_type": "code",
   "execution_count": null,
   "id": "9740d423",
   "metadata": {},
   "outputs": [],
   "source": []
  },
  {
   "cell_type": "code",
   "execution_count": null,
   "id": "dab9215a",
   "metadata": {},
   "outputs": [],
   "source": []
  }
 ],
 "metadata": {
  "kaggle": {
   "accelerator": "none",
   "dataSources": [],
   "dockerImageVersionId": 30732,
   "isGpuEnabled": false,
   "isInternetEnabled": false,
   "language": "python",
   "sourceType": "notebook"
  },
  "kernelspec": {
   "display_name": "Python 3 (ipykernel)",
   "language": "python",
   "name": "python3"
  },
  "language_info": {
   "codemirror_mode": {
    "name": "ipython",
    "version": 3
   },
   "file_extension": ".py",
   "mimetype": "text/x-python",
   "name": "python",
   "nbconvert_exporter": "python",
   "pygments_lexer": "ipython3",
   "version": "3.11.5"
  },
  "papermill": {
   "default_parameters": {},
   "duration": 3.186106,
   "end_time": "2024-06-12T17:52:15.078743",
   "environment_variables": {},
   "exception": null,
   "input_path": "__notebook__.ipynb",
   "output_path": "__notebook__.ipynb",
   "parameters": {},
   "start_time": "2024-06-12T17:52:11.892637",
   "version": "2.5.0"
  }
 },
 "nbformat": 4,
 "nbformat_minor": 5
}
